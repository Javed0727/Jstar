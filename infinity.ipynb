{
 "cells": [
  {
   "cell_type": "code",
   "execution_count": 1,
   "metadata": {},
   "outputs": [],
   "source": [
    "from turtle import *\n",
    "bgcolor('black')\n",
    "color('cyan')\n",
    "speed(11)\n",
    "right(45)\n",
    "for i in range(150):\n",
    "    circle(30)\n",
    "    if 7<i<62:\n",
    "        left(5)\n",
    "    if 80<i<133:\n",
    "        right(5)\n",
    "    if i<80:\n",
    "        forward(10)\n",
    "    else:\n",
    "        forward(5)"
   ]
  },
  {
   "cell_type": "code",
   "execution_count": null,
   "metadata": {
    "collapsed": true
   },
   "outputs": [],
   "source": []
  }
 ],
 "metadata": {
  "kernelspec": {
   "display_name": "Python 3",
   "language": "python",
   "name": "python3"
  },
  "language_info": {
   "codemirror_mode": {
    "name": "ipython",
    "version": 3
   },
   "file_extension": ".py",
   "mimetype": "text/x-python",
   "name": "python",
   "nbconvert_exporter": "python",
   "pygments_lexer": "ipython3",
   "version": "3.6.3"
  }
 },
 "nbformat": 4,
 "nbformat_minor": 2
}
